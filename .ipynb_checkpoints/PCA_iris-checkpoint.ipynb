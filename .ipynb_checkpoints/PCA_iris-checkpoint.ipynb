{
 "cells": [
  {
   "cell_type": "markdown",
   "metadata": {},
   "source": [
    "# 主成分分析をirisデータセットに適用する"
   ]
  },
  {
   "cell_type": "markdown",
   "metadata": {},
   "source": [
    "今回使用するirisデータセットは簡単のためsckit-learnライブラリから導入した"
   ]
  },
  {
   "cell_type": "code",
   "execution_count": 29,
   "metadata": {},
   "outputs": [],
   "source": [
    "import pandas as pd\n",
    "import numpy as np\n",
    "from sklearn.datasets import load_iris\n",
    "from sklearn.model_selection import train_test_split\n",
    "from sklearn.preprocessing import StandardScaler\n",
    "%matplotlib inline\n",
    "import matplotlib.pyplot as plt"
   ]
  },
  {
   "cell_type": "code",
   "execution_count": 30,
   "metadata": {},
   "outputs": [
    {
     "name": "stdout",
     "output_type": "stream",
     "text": [
      "dict_keys(['data', 'target', 'frame', 'target_names', 'DESCR', 'feature_names', 'filename'])\n",
      "['setosa' 'versicolor' 'virginica']\n",
      "['sepal length (cm)', 'sepal width (cm)', 'petal length (cm)', 'petal width (cm)']\n"
     ]
    }
   ],
   "source": [
    "# irisデータセットの読み込み\n",
    "iris = datasets.load_iris()\n",
    "x = iris.data\n",
    "y = iris.target \n",
    "\n",
    "x_train, x_test, y_train, y_test = train_test_split(x, y, test_size=0.3, stratify=y, random_state=0)  \n",
    "print(iris.keys())\n",
    "print(iris['target_names'])\n",
    "print(iris['feature_names'])"
   ]
  },
  {
   "cell_type": "code",
   "execution_count": 31,
   "metadata": {},
   "outputs": [
    {
     "data": {
      "text/html": [
       "<div>\n",
       "<style scoped>\n",
       "    .dataframe tbody tr th:only-of-type {\n",
       "        vertical-align: middle;\n",
       "    }\n",
       "\n",
       "    .dataframe tbody tr th {\n",
       "        vertical-align: top;\n",
       "    }\n",
       "\n",
       "    .dataframe thead th {\n",
       "        text-align: right;\n",
       "    }\n",
       "</style>\n",
       "<table border=\"1\" class=\"dataframe\">\n",
       "  <thead>\n",
       "    <tr style=\"text-align: right;\">\n",
       "      <th></th>\n",
       "      <th>sepal length (cm)</th>\n",
       "      <th>sepal width (cm)</th>\n",
       "      <th>petal length (cm)</th>\n",
       "      <th>petal width (cm)</th>\n",
       "    </tr>\n",
       "  </thead>\n",
       "  <tbody>\n",
       "    <tr>\n",
       "      <th>0</th>\n",
       "      <td>5.1</td>\n",
       "      <td>3.5</td>\n",
       "      <td>1.4</td>\n",
       "      <td>0.2</td>\n",
       "    </tr>\n",
       "    <tr>\n",
       "      <th>1</th>\n",
       "      <td>4.9</td>\n",
       "      <td>3.0</td>\n",
       "      <td>1.4</td>\n",
       "      <td>0.2</td>\n",
       "    </tr>\n",
       "    <tr>\n",
       "      <th>2</th>\n",
       "      <td>4.7</td>\n",
       "      <td>3.2</td>\n",
       "      <td>1.3</td>\n",
       "      <td>0.2</td>\n",
       "    </tr>\n",
       "    <tr>\n",
       "      <th>3</th>\n",
       "      <td>4.6</td>\n",
       "      <td>3.1</td>\n",
       "      <td>1.5</td>\n",
       "      <td>0.2</td>\n",
       "    </tr>\n",
       "    <tr>\n",
       "      <th>4</th>\n",
       "      <td>5.0</td>\n",
       "      <td>3.6</td>\n",
       "      <td>1.4</td>\n",
       "      <td>0.2</td>\n",
       "    </tr>\n",
       "    <tr>\n",
       "      <th>...</th>\n",
       "      <td>...</td>\n",
       "      <td>...</td>\n",
       "      <td>...</td>\n",
       "      <td>...</td>\n",
       "    </tr>\n",
       "    <tr>\n",
       "      <th>145</th>\n",
       "      <td>6.7</td>\n",
       "      <td>3.0</td>\n",
       "      <td>5.2</td>\n",
       "      <td>2.3</td>\n",
       "    </tr>\n",
       "    <tr>\n",
       "      <th>146</th>\n",
       "      <td>6.3</td>\n",
       "      <td>2.5</td>\n",
       "      <td>5.0</td>\n",
       "      <td>1.9</td>\n",
       "    </tr>\n",
       "    <tr>\n",
       "      <th>147</th>\n",
       "      <td>6.5</td>\n",
       "      <td>3.0</td>\n",
       "      <td>5.2</td>\n",
       "      <td>2.0</td>\n",
       "    </tr>\n",
       "    <tr>\n",
       "      <th>148</th>\n",
       "      <td>6.2</td>\n",
       "      <td>3.4</td>\n",
       "      <td>5.4</td>\n",
       "      <td>2.3</td>\n",
       "    </tr>\n",
       "    <tr>\n",
       "      <th>149</th>\n",
       "      <td>5.9</td>\n",
       "      <td>3.0</td>\n",
       "      <td>5.1</td>\n",
       "      <td>1.8</td>\n",
       "    </tr>\n",
       "  </tbody>\n",
       "</table>\n",
       "<p>150 rows × 4 columns</p>\n",
       "</div>"
      ],
      "text/plain": [
       "     sepal length (cm)  sepal width (cm)  petal length (cm)  petal width (cm)\n",
       "0                  5.1               3.5                1.4               0.2\n",
       "1                  4.9               3.0                1.4               0.2\n",
       "2                  4.7               3.2                1.3               0.2\n",
       "3                  4.6               3.1                1.5               0.2\n",
       "4                  5.0               3.6                1.4               0.2\n",
       "..                 ...               ...                ...               ...\n",
       "145                6.7               3.0                5.2               2.3\n",
       "146                6.3               2.5                5.0               1.9\n",
       "147                6.5               3.0                5.2               2.0\n",
       "148                6.2               3.4                5.4               2.3\n",
       "149                5.9               3.0                5.1               1.8\n",
       "\n",
       "[150 rows x 4 columns]"
      ]
     },
     "execution_count": 31,
     "metadata": {},
     "output_type": "execute_result"
    }
   ],
   "source": [
    "pd.DataFrame(iris.data, columns=iris.feature_names)"
   ]
  },
  {
   "cell_type": "markdown",
   "metadata": {},
   "source": [
    "### データを標準化する\n",
    "$$\n",
    "z_i=\\frac{x_i-\\mu}{\\sigma}\n",
    "$$\n",
    "ここで$\\mu$は平均、$\\sigma$は分散を表す"
   ]
  },
  {
   "cell_type": "code",
   "execution_count": 32,
   "metadata": {},
   "outputs": [],
   "source": [
    "import math\n",
    "# データを標準化する関数\n",
    "def standardize(x):\n",
    "    return (x-x.mean()) / x.std()"
   ]
  },
  {
   "cell_type": "code",
   "execution_count": 33,
   "metadata": {},
   "outputs": [],
   "source": [
    "# xデータの標準化\n",
    "x_train_std = standardize(x_train)\n",
    "x_test_std = standardize(x_test)"
   ]
  },
  {
   "cell_type": "code",
   "execution_count": 34,
   "metadata": {},
   "outputs": [
    {
     "name": "stdout",
     "output_type": "stream",
     "text": [
      "\n",
      "cov_mat \n",
      "[[ 0.18669321 -0.00740546  0.34249494  0.13554813]\n",
      " [-0.00740546  0.05210504 -0.0838627  -0.03117307]\n",
      " [ 0.34249494 -0.0838627   0.82092329  0.3351328 ]\n",
      " [ 0.13554813 -0.03117307  0.3351328   0.14751558]]\n",
      "\n",
      "Eigenvalues \n",
      "[1.11365629 0.06866974 0.01910036 0.00581074]\n",
      "\n",
      "Eigenvectors \n",
      "[[ 0.36860875 -0.64263366 -0.57523283  0.34678055]\n",
      " [-0.08057962 -0.74167427  0.58341661 -0.32101599]\n",
      " [ 0.85678051  0.16970258  0.06882    -0.48207053]\n",
      " [ 0.35151339  0.09023469  0.56920651  0.73776689]]\n",
      "\n",
      "array \n",
      "[[1.11365629 0.         0.         0.        ]\n",
      " [0.         0.06866974 0.         0.        ]\n",
      " [0.         0.         0.01910036 0.        ]\n",
      " [0.         0.         0.         0.00581074]]\n",
      "\n",
      "Eigenvectors(-1) \n",
      "[[ 0.36860875 -0.08057962  0.85678051  0.35151339]\n",
      " [-0.64263366 -0.74167427  0.16970258  0.09023469]\n",
      " [-0.57523283  0.58341661  0.06882     0.56920651]\n",
      " [ 0.34678055 -0.32101599 -0.48207053  0.73776689]]\n",
      "\n",
      "Eigenvectors * array * Eigenvectors(-1) = \n",
      "[[ 0.18669321 -0.00740546  0.34249494  0.13554813]\n",
      " [-0.00740546  0.05210504 -0.0838627  -0.03117307]\n",
      " [ 0.34249494 -0.0838627   0.82092329  0.3351328 ]\n",
      " [ 0.13554813 -0.03117307  0.3351328   0.14751558]]\n"
     ]
    }
   ],
   "source": [
    "# 固有値と固有ベクトルの計算\n",
    "cov_mat = np.cov(x_train_std.T)  # 共分散行列を計算\n",
    "eigen_vals, eigen_vecs = np.linalg.eig(cov_mat)  # 共分散行列から固有値と固有ベクトルを計算\n",
    "print('\\ncov_mat \\n%s' % cov_mat)  # 共分散行列を表示\n",
    "print('\\nEigenvalues \\n%s' % eigen_vals)  # 固有値の表示\n",
    "print('\\nEigenvectors \\n%s' % eigen_vecs)  # 固有ベクトルの表示\n",
    "\n",
    "array = np.array([[eigen_vals[0], 0, 0, 0],\n",
    "                  [0, eigen_vals[1], 0, 0],\n",
    "                  [0, 0, eigen_vals[2], 0],\n",
    "                  [0, 0, 0, eigen_vals[3]]])  # 固有値からarrayを作成 \n",
    "print('\\narray \\n%s' % array) \n",
    "print('\\nEigenvectors(-1) \\n%s' % np.linalg.inv(eigen_vecs))  \n",
    "results = eigen_vecs.dot(array).dot(np.linalg.inv(eigen_vecs))\n",
    "print('\\nEigenvectors * array * Eigenvectors(-1) = \\n%s' % results)"
   ]
  },
  {
   "cell_type": "code",
   "execution_count": 41,
   "metadata": {},
   "outputs": [
    {
     "name": "stdout",
     "output_type": "stream",
     "text": [
      "contribution rate:\n",
      " [0.922483467465038, 0.05688173320395371, 0.015821545955263264, 0.004813253375745078]\n",
      "cumulative contribution rate:\n",
      " [0.92248347 0.9793652  0.99518675 1.        ]\n"
     ]
    },
    {
     "data": {
      "image/png": "[encoded data removed]",
      "text/plain": [
       "<Figure size 432x288 with 1 Axes>"
      ]
     },
     "metadata": {
      "needs_background": "light"
     },
     "output_type": "display_data"
    }
   ],
   "source": [
    "# 寄与率と累積寄与率\n",
    "tot = sum(eigen_vals)\n",
    "var_exp = [(i / tot) for i in sorted(eigen_vals, reverse=True)]\n",
    "cum_var_exp = np.cumsum(var_exp)\n",
    "print('contribution rate:\\n', var_exp)\n",
    "print('cumulative contribution rate:\\n', cum_var_exp)\n",
    "plt.bar(range(1 ,5), var_exp, alpha=0.5, align='center', label='individual contribution ratio')\n",
    "plt.step(range(1, 5), cum_var_exp, where='mid', label='cumulative contribution ratio')\n",
    "plt.title('Contribution ratio of iris in PCA')\n",
    "plt.ylabel('Explained variance ratio')\n",
    "plt.xlabel('Principal component index')\n",
    "plt.legend(loc='best')\n",
    "plt.savefig('iris_PCA_explained_variance.png')\n",
    "plt.show()"
   ]
  },
  {
   "cell_type": "code",
   "execution_count": 25,
   "metadata": {},
   "outputs": [
    {
     "name": "stdout",
     "output_type": "stream",
     "text": [
      "[[ 0.36860875 -0.64263366]\n",
      " [-0.08057962 -0.74167427]\n",
      " [ 0.85678051  0.16970258]\n",
      " [ 0.35151339  0.09023469]]\n"
     ]
    }
   ],
   "source": [
    "# 射影行列wの作成\n",
    "eigen_pairs = [(np.abs(eigen_vals[i]), eigen_vecs[:, i])  # 固有値と固有ベクトルのセットを作成\n",
    "               for i in range(len(eigen_vals))]  \n",
    "eigen_pairs.sort(key=lambda k: k[0], reverse=True)  # ソート\n",
    "w = np.hstack((eigen_pairs[0][1][:, np.newaxis],\n",
    "               eigen_pairs[1][1][:, np.newaxis]))  # 上位2つのベクトルを取得\n",
    "print(w)  # 射影行列(4×2)を表示"
   ]
  },
  {
   "cell_type": "code",
   "execution_count": 43,
   "metadata": {},
   "outputs": [
    {
     "data": {
      "image/png": "[encoded data removed]",
      "text/plain": [
       "<Figure size 432x288 with 1 Axes>"
      ]
     },
     "metadata": {
      "needs_background": "light"
     },
     "output_type": "display_data"
    }
   ],
   "source": [
    "# データセットを射影行列wで変換\n",
    "x_train_pca = x_train_std.dot(w)\n",
    "\n",
    "colors = ['r', 'b', 'g']\n",
    "markers = ['s', 'x', 'o']\n",
    "\n",
    "for l, c, m in zip(np.unique(y_train), colors, markers):\n",
    "    plt.scatter(x_train_pca[y_train == l, 0], \n",
    "                x_train_pca[y_train == l, 1], \n",
    "                c=c, label=iris['target_names'][l], marker=m)\n",
    "plt.title('iris PCA')\n",
    "plt.xlabel('z1')\n",
    "plt.ylabel('z2')\n",
    "plt.legend(loc='upper right')\n",
    "plt.savefig('iris_PCA.png')\n",
    "plt.show()"
   ]
  },
  {
   "cell_type": "code",
   "execution_count": 45,
   "metadata": {},
   "outputs": [
    {
     "data": {
      "image/png": "[encoded data removed]",
      "text/plain": [
       "<Figure size 432x288 with 1 Axes>"
      ]
     },
     "metadata": {
      "needs_background": "light"
     },
     "output_type": "display_data"
    }
   ],
   "source": [
    "x_test_pca = x_test_std.dot(w)\n",
    "\n",
    "colors = ['r', 'b', 'g']\n",
    "markers = ['s', 'x', 'o']\n",
    "\n",
    "for l, c, m in zip(np.unique(y_test), colors, markers):\n",
    "    plt.scatter(x_test_pca[y_test == l, 0], \n",
    "                x_test_pca[y_test == l, 1], \n",
    "                c=c, label=iris['target_names'][l], marker=m)\n",
    "plt.title('iris test PCA')\n",
    "plt.xlabel('z1')\n",
    "plt.ylabel('z2')\n",
    "plt.legend(loc='upper left')\n",
    "plt.savefig('iris_PCA_test.png')\n",
    "plt.show()"
   ]
  },
  {
   "cell_type": "code",
   "execution_count": null,
   "metadata": {},
   "outputs": [],
   "source": []
  }
 ],
 "metadata": {
  "kernelspec": {
   "display_name": "Python 3",
   "language": "python",
   "name": "python3"
  },
  "language_info": {
   "codemirror_mode": {
    "name": "ipython",
    "version": 3
   },
   "file_extension": ".py",
   "mimetype": "text/x-python",
   "name": "python",
   "nbconvert_exporter": "python",
   "pygments_lexer": "ipython3",
   "version": "3.8.3"
  }
 },
 "nbformat": 4,
 "nbformat_minor": 4
}
