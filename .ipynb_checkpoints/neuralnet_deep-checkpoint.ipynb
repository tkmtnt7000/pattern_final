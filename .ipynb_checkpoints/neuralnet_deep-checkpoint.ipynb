{
 "cells": [
  {
   "cell_type": "markdown",
   "metadata": {},
   "source": [
    "# パターン情報学　レポート課題\n",
    "# ・4層ニューラルネットワークの実装\n",
    "# ・過適合対策としてのDropoutの実装\n",
    " \n",
    "### ライブラリのインポート"
   ]
  },
  {
   "cell_type": "code",
   "execution_count": 1,
   "metadata": {},
   "outputs": [],
   "source": [
    "#coding: utf-8\n",
    "import numpy as np\n",
    "import sys\n",
    "import os\n",
    "import os.path\n",
    "\n",
    "from collections import OrderedDict\n",
    "import matplotlib.pyplot as plt\n",
    "\n",
    "sys.path.append(os.pardir)\n",
    "from dataset.mnist import load_mnist"
   ]
  },
  {
   "cell_type": "markdown",
   "metadata": {},
   "source": [
    "## 各種関数の実装\n",
    "シグモイド関数とその微分、ReLUとその微分、Softmax関数、交差エントロピー誤差、二乗平均誤差  \n",
    "をそれぞれ作っている"
   ]
  },
  {
   "cell_type": "code",
   "execution_count": 2,
   "metadata": {},
   "outputs": [],
   "source": [
    "def sigmoid(x):\n",
    "    return 1 / (1+np.exp(x))\n",
    "\n",
    "def sigmoid_d(x):\n",
    "    return (1.0 - sigmoid(x)) * sigmoid(x)\n",
    "\n",
    "def relu(x):\n",
    "    return np.maximum(0, x)\n",
    "\n",
    "def relu_d(x):\n",
    "    grad = np.zeros_like(x)\n",
    "    grad[x>=0] = 1\n",
    "    return grad\n",
    "\n",
    "def softmax(x):\n",
    "    x = x - np.max(x, axis=-1, keepdims=True) # オーバーフロー防止用\n",
    "    return np.exp(x) / np.sum(np.exp(x), axis=-1, keepdims=True)\n",
    "\n",
    "# 交差エントロピー誤差\n",
    "def cross_entropy_error(prob, t):\n",
    "    \n",
    "    if prob.ndim == 1:\n",
    "        t = t.reshape(1, prob.size)\n",
    "        prob = prob.reshape(1, prob.size)\n",
    "        \n",
    "    if t.size == prob.size:\n",
    "        t = t.argmax(axis=1)\n",
    "             \n",
    "    batch_size = prob.shape[0]\n",
    "    \n",
    "    return -np.mean(np.log(prob[np.arange(prob.shape[0]), t] + 1e-7))\n",
    "\n",
    "# 二乗平均誤差\n",
    "def root_square_mean_error(y, t):\n",
    "    return 0.5 * np.sum((y-t)**2) # 比較には平方根はいらない"
   ]
  },
  {
   "cell_type": "markdown",
   "metadata": {},
   "source": [
    "## 学習のトリック\n",
    "学習のトリックについてクラスを用いて表している\n",
    "SGDは一般的な学習則を表している"
   ]
  },
  {
   "cell_type": "code",
   "execution_count": 20,
   "metadata": {},
   "outputs": [],
   "source": [
    "class SGD:\n",
    "\n",
    "    def __init__(self, lr=0.01):\n",
    "        self.lr = lr\n",
    "        \n",
    "    def update(self, params, grads):\n",
    "        for k in params.keys():\n",
    "            params[k] -= self.lr * grads[k] \n",
    "\n",
    "\n",
    "class Momentum:\n",
    "\n",
    "    def __init__(self, lr=0.01, momentum=0.9):\n",
    "        self.lr = lr\n",
    "        self.momentum = momentum\n",
    "        self.v = None\n",
    "        \n",
    "    def update(self, params, grads):\n",
    "        if self.v is None:\n",
    "            self.v = {}\n",
    "            for k, value in params.items():                                \n",
    "                self.v[k] = np.zeros(value.shape)\n",
    "                \n",
    "        for k in params.keys():\n",
    "            self.v[k] = self.momentum * self.v[k] - self.lr * grads[k] \n",
    "            params[k] += self.v[k]\n",
    "            \n",
    "class AdaGrad:\n",
    "\n",
    "    def __init__(self, lr=0.01):\n",
    "        self.lr = lr\n",
    "        self.h = None\n",
    "        \n",
    "    def update(self, params, grads):\n",
    "        if self.h is None:\n",
    "            self.h = {}\n",
    "            for key, value in params.items():\n",
    "                self.h[key] = np.zeros(value.shape)\n",
    "            \n",
    "        for k in params.keys():\n",
    "            self.h[k] += grads[k] * grads[k]\n",
    "            params[k] -= self.lr * grads[k] / (np.sqrt(self.h[k]) + 1e-7)"
   ]
  },
  {
   "cell_type": "markdown",
   "metadata": {},
   "source": [
    "### レイヤの実装\n",
    "ここでは活性化関数とそれらを繋ぐノードに用いる行列積をレイヤとしてクラス単位で実装する  \n",
    "どのレイヤについてもforwardメソッドで順伝播を実装し、backwardメソッドで逆伝播を実装している  \n",
    "Softmax関数については必ず出力層に用いるので損失も合わせて実装している\n",
    "誤差関数については引数error_typeによって、二乗平均誤差もしくは交差エントロピー誤差のいずれかを用いることができる。  \n",
    "Dropoutレイヤを指定すると信号を伝搬するニューロンを一定の割合で選択することができる。"
   ]
  },
  {
   "cell_type": "code",
   "execution_count": 41,
   "metadata": {},
   "outputs": [],
   "source": [
    "# 行列積を伝えるレイヤ\n",
    "class Linear_Layer:\n",
    "    def __init__(self, W, b):\n",
    "        #super().__init__(Linear_Layer)\n",
    "        self.W = W\n",
    "        self.b = b\n",
    "        self.x = None\n",
    "        self.W_grad = None\n",
    "        self.b_grad = None\n",
    "        \n",
    "    def forward(self, x):\n",
    "        self.x = x\n",
    "        return np.dot(x, self.W) + self.b\n",
    "    \n",
    "    def backward(self, dout):\n",
    "        self.W_grad = np.dot(self.x.T, dout)\n",
    "        self.b_grad = np.sum(dout, axis=0)\n",
    "        return np.dot(dout, self.W.T)\n",
    "\n",
    "# 活性化関数がシグモイド\n",
    "class Sigmoid_Layer:\n",
    "    def __init__(self):\n",
    "        #super().__init__(Sigmoid_Layer)\n",
    "        self.out = None\n",
    "    \n",
    "    def forward(self, x):\n",
    "        self.out = sigmoid(x)\n",
    "        return self.out\n",
    "    \n",
    "    def backward(self, dout):\n",
    "        return dout * (1.0 - self.out) * self.out\n",
    "\n",
    "# 活性化関数がReLU    \n",
    "class ReLU_Layer:\n",
    "    def __init__(self):\n",
    "        #super().__init__(ReLU_Layer)\n",
    "        self.mask = None\n",
    "    \n",
    "    def forward(self, x):\n",
    "        out = np.maximum(x, 0)\n",
    "        self.mask = np.sign(out)\n",
    "        return out\n",
    "    \n",
    "    def backward(self, dout):\n",
    "        return self.mask * dout\n",
    "    \n",
    "# 活性化関数がSoftmax, 出力層に用いるので損失と組み合わせる\n",
    "# error_type {1:二乗平均誤差, 2:交差エントロピー誤差}\n",
    "class Softmax_Loss_Layer:\n",
    "    def __init__(self, error_type=1):\n",
    "        #super().__init__(Softmax_Loss_Layer)\n",
    "        self.loss = None\n",
    "        self.y = None\n",
    "        self.t = None\n",
    "        self.error_type = error_type\n",
    "        \n",
    "    def forward(self, x, t):\n",
    "        self.t = t\n",
    "        self.y = softmax(x)\n",
    "        if self.error_type == 1:\n",
    "            self.loss = root_square_mean_error(self.y, self.t) # 二乗平均誤差\n",
    "        elif self.error_type == 2:\n",
    "            self.loss = cross_entropy_error(self.y, self.t) # 交差エントロピー誤差\n",
    "        else:\n",
    "            print(\"error_type should be 1 or 2\")\n",
    "            \n",
    "        return self.loss\n",
    "    \n",
    "    def backward(self, dout=1):\n",
    "        batch_size = self.t.shape[0]\n",
    "        dx = (self.y - self.t) / batch_size\n",
    "        return dx\n",
    "            \n",
    "class Dropout_Layer:\n",
    "    def __init__(self, dropout_rate=0.5):\n",
    "        self.dropout_rate = dropout_rate\n",
    "        self.erase = None\n",
    "\n",
    "    def forward(self, x, flag=True):\n",
    "        if flag:\n",
    "            self.erase = np.random.rand(*x.shape) > self.dropout_rate\n",
    "            return x * self.erase\n",
    "        else:\n",
    "            return x * (1.0 - self.dropout_rate)\n",
    "\n",
    "    def backward(self, dout):\n",
    "        return dout * self.erase"
   ]
  },
  {
   "cell_type": "markdown",
   "metadata": {},
   "source": [
    "## 4層ニューラルネットワークの実装\n",
    "initでは結合荷重初期値の決定とニューラルネットワークの構築を行っている  \n",
    "ディクショナリにすることで層のつながる順番を表せるようにしている  \n",
    "活性化関数により結合荷重の初期値を変化させられるように実装した\n",
    "\n",
    "predictでは順伝播により入力から出力方向への処理を実装、  \n",
    "gradientで逆伝播により勾配を求めている  \n",
    "accuracyでは正解率の計算、lossで損失の微分を計算している\n",
    "\n",
    "この実装では重み減衰と結合荷重の初期値について考慮してある"
   ]
  },
  {
   "cell_type": "code",
   "execution_count": 45,
   "metadata": {},
   "outputs": [],
   "source": [
    "class NeuralNet_4layer_improve:\n",
    "\n",
    "    def __init__(self, input_size, hidden_size_1, hidden_size_2 , output_size, weight_init_value = 0.01,\n",
    "                activate_func=\"relu\", weight_decay_rate=5e-4):\n",
    "        self.input_size = input_size\n",
    "        self.output_size = output_size\n",
    "        self.hidden_size_1 = hidden_size_1\n",
    "        self.hidden_size_2 = hidden_size_2\n",
    "        \n",
    "        self.activate_func = activate_func\n",
    "        self.weight_decay_rate = weight_decay_rate\n",
    "        \n",
    "        # 重みの初期化\n",
    "        # ガウス分布を用いた乱数設定(通常バージョン)\n",
    "        if activate_func == \"normal\":\n",
    "            self.params = {}\n",
    "            self.params['W1'] = weight_init_value * np.random.randn(input_size, hidden_size_1)\n",
    "            self.params['b1'] = np.zeros(hidden_size_1)\n",
    "            self.params['W2'] = weight_init_value * np.random.randn(hidden_size_1, hidden_size_2) \n",
    "            self.params['b2'] = np.zeros(hidden_size_2)\n",
    "            self.params['W3'] = weight_init_value * np.random.randn(hidden_size_2, output_size) \n",
    "            self.params['b3'] = np.zeros(output_size)\n",
    "        \n",
    "            self.layers = OrderedDict()\n",
    "            self.layers['Linear1'] = Linear_Layer(self.params['W1'], self.params['b1'])\n",
    "            self.layers['ReLU1'] = ReLU_Layer()\n",
    "            self.layers['Linear2'] = Linear_Layer(self.params['W2'], self.params['b2'])\n",
    "            self.layers['ReLU2'] = ReLU_Layer()\n",
    "            self.layers['Linear3'] = Linear_Layer(self.params['W3'], self.params['b3'])\n",
    "            \n",
    "        # ReLUを用いたときの重み初期値\n",
    "        elif activate_func == \"relu\":\n",
    "            scale_in = np.sqrt(2.0 / input_size)\n",
    "            scale_hidden_1 = np.sqrt(2.0 / hidden_size_1)\n",
    "            scale_hidden_2 = np.sqrt(2.0 / hidden_size_2)\n",
    "            #scale_out = np.sqrt(2.0 / output_size)\n",
    "            \n",
    "            self.params = {}\n",
    "            self.params['W1'] = scale_in * np.random.randn(input_size, hidden_size_1)\n",
    "            self.params['b1'] = np.zeros(hidden_size_1)\n",
    "            self.params['W2'] = scale_hidden_1 * np.random.randn(hidden_size_1, hidden_size_2) \n",
    "            self.params['b2'] = np.zeros(hidden_size_2)\n",
    "            self.params['W3'] = scale_hidden_2 * np.random.randn(hidden_size_2, output_size) \n",
    "            self.params['b3'] = np.zeros(output_size)\n",
    "            \n",
    "            self.layers = OrderedDict()\n",
    "            self.layers['Linear1'] = Linear_Layer(self.params['W1'], self.params['b1'])\n",
    "            self.layers['ReLU1'] = ReLU_Layer()\n",
    "            self.layers['Linear2'] = Linear_Layer(self.params['W2'], self.params['b2'])\n",
    "            self.layers['ReLU2'] = ReLU_Layer()\n",
    "            self.layers['Linear3'] = Linear_Layer(self.params['W3'], self.params['b3'])\n",
    "            \n",
    "        # Sigmoidを用いたときの重み初期値\n",
    "        elif activate_func == \"sigmoid\":\n",
    "            scale_in = np.sqrt(1.0 / input_size)\n",
    "            scale_hidden_1 = np.sqrt(1.0 / hidden_size_1)\n",
    "            scale_hidden_2 = np.sqrt(1.0 / hidden_size_2)\n",
    "            #scale_out = np.sqrt(2.0 / output_size)\n",
    "            \n",
    "            self.params = {}\n",
    "            self.params['W1'] = scale_in * np.random.randn(input_size, hidden_size_1)\n",
    "            self.params['b1'] = np.zeros(hidden_size_1)\n",
    "            self.params['W2'] = scale_hidden_1 * np.random.randn(hidden_size_1, hidden_size_2) \n",
    "            self.params['b2'] = np.zeros(hidden_size_2)\n",
    "            self.params['W3'] = scale_hidden_2 * np.random.randn(hidden_size_2, output_size) \n",
    "            self.params['b3'] = np.zeros(output_size)\n",
    "            \n",
    "            self.layers = OrderedDict()\n",
    "            self.layers['Linear1'] = Linear_Layer(self.params['W1'], self.params['b1'])\n",
    "            self.layers['Sigmoid1'] = Sigmoid_Layer()\n",
    "            self.layers['Linear2'] = Linear_Layer(self.params['W2'], self.params['b2'])\n",
    "            self.layers['Sigmoid2'] = Sigmoid_Layer()\n",
    "            self.layers['Linear3'] = Linear_Layer(self.params['W3'], self.params['b3'])\n",
    "            \n",
    "        self.OutputLayer = Softmax_Loss_Layer(2)\n",
    "        \n",
    "    def predict(self, x):\n",
    "        for layer in self.layers.values():\n",
    "            x = layer.forward(x)        \n",
    "        return x\n",
    "        \n",
    "    # x:入力データ, t:教師データ\n",
    "    def loss(self, x, t):\n",
    "        y = self.predict(x)\n",
    "        \n",
    "        weight_decay = 0\n",
    "        \n",
    "        for idx in range(1, 4):\n",
    "            W = self.params['W' + str(idx)]\n",
    "            weight_decay += 0.5 * self.weight_decay_rate * np.sum(W ** 2)\n",
    "        \n",
    "        return self.OutputLayer.forward(y, t) + weight_decay\n",
    "    \n",
    "    def accuracy(self, x, t):\n",
    "        y = self.predict(x)\n",
    "        y = np.argmax(y, axis=1)\n",
    "        if t.ndim != 1 : \n",
    "            t = np.argmax(t, axis=1)        \n",
    "        accuracy = np.sum(y == t) / float(x.shape[0])\n",
    "        return accuracy\n",
    "        \n",
    "    # 逆伝播による勾配の実装\n",
    "    def gradient(self, x, t):\n",
    "        # forward\n",
    "        self.loss(x, t)\n",
    "\n",
    "        # backward\n",
    "        dout = 1\n",
    "        dout = self.OutputLayer.backward(dout)\n",
    "        \n",
    "        layers = list(self.layers.values())\n",
    "        layers.reverse()\n",
    "        for layer in layers:\n",
    "            dout = layer.backward(dout)\n",
    "\n",
    "        # 設定\n",
    "        grads = {}\n",
    "        grads['W1'], grads['b1'] = self.layers['Linear1'].W_grad, self.layers['Linear1'].b_grad\n",
    "        grads['W2'], grads['b2'] = self.layers['Linear2'].W_grad, self.layers['Linear2'].b_grad\n",
    "        grads['W3'], grads['b3'] = self.layers['Linear3'].W_grad, self.layers['Linear3'].b_grad\n",
    "\n",
    "        return grads"
   ]
  },
  {
   "cell_type": "markdown",
   "metadata": {},
   "source": [
    "まずSGDを利用した  \n",
    "ここでは簡単のために中間層1と中間層2のニューロン数を同数とした"
   ]
  },
  {
   "cell_type": "code",
   "execution_count": 38,
   "metadata": {},
   "outputs": [
    {
     "name": "stdout",
     "output_type": "stream",
     "text": [
      "epoch: 0.0\n",
      "0.07873333333333334 0.0703\n",
      "epoch: 1.0\n",
      "0.92415 0.9247\n",
      "epoch: 2.0\n",
      "0.9502333333333334 0.9481\n",
      "epoch: 3.0\n",
      "0.96135 0.9565\n",
      "epoch: 4.0\n",
      "0.9673 0.9601\n",
      "epoch: 5.0\n",
      "0.97055 0.9627\n",
      "epoch: 6.0\n",
      "0.9731666666666666 0.9641\n",
      "epoch: 7.0\n",
      "0.9757166666666667 0.9685\n",
      "epoch: 8.0\n",
      "0.9792166666666666 0.9702\n",
      "epoch: 9.0\n",
      "0.9816833333333334 0.9702\n",
      "epoch: 10.0\n",
      "0.9836166666666667 0.974\n",
      "epoch: 11.0\n",
      "0.9833 0.9752\n",
      "epoch: 12.0\n",
      "0.9845166666666667 0.9724\n",
      "epoch: 13.0\n",
      "0.9860833333333333 0.9734\n",
      "epoch: 14.0\n",
      "0.9873166666666666 0.9721\n",
      "epoch: 15.0\n",
      "0.9880333333333333 0.9735\n",
      "epoch: 16.0\n",
      "0.9871166666666666 0.9733\n",
      "0.9871166666666666 0.9733\n"
     ]
    }
   ],
   "source": [
    "(x_train, t_train), (x_test, t_test) = load_mnist(normalize=True, one_hot_label=True)\n",
    "\n",
    "net_4_sgd = NeuralNet_4layer_improve(input_size=784, hidden_size_1=50, hidden_size_2=50,output_size=10,activate_func=\"relu\")\n",
    "\n",
    "optimizer = Momentum()\n",
    "iters_num = 10000 \n",
    "train_size = x_train.shape[0]\n",
    "batch_size = 100\n",
    "learning_rate = 0.1\n",
    "\n",
    "train_loss_list = []\n",
    "train_acc_list = []\n",
    "test_acc_list = []\n",
    "\n",
    "iter_per_epoch = max(train_size / batch_size, 1)\n",
    "\n",
    "for i in range(iters_num):\n",
    "    batch_mask = np.random.choice(train_size, batch_size)\n",
    "    x_batch = x_train[batch_mask]\n",
    "    t_batch = t_train[batch_mask]\n",
    "    \n",
    "    grad = net_4_sgd.gradient(x_batch, t_batch)\n",
    "    optimizer.update(net_4_sgd.params, grad)\n",
    "    \n",
    "    loss = net_4_sgd.loss(x_batch, t_batch)\n",
    "    train_loss_list.append(loss)\n",
    "    \n",
    "    if i % iter_per_epoch == 0:\n",
    "        print(\"epoch: {}\".format(i//iter_per_epoch))\n",
    "        train_acc = net_4_sgd.accuracy(x_train, t_train)\n",
    "        test_acc = net_4_sgd.accuracy(x_test, t_test)\n",
    "        train_acc_list.append(train_acc)\n",
    "        test_acc_list.append(test_acc)\n",
    "        print(train_acc, test_acc)\n",
    "print(train_acc_list[-1], test_acc_list[-1])"
   ]
  },
  {
   "cell_type": "code",
   "execution_count": 39,
   "metadata": {},
   "outputs": [
    {
     "data": {
      "image/png": "[encoded data removed]",
      "text/plain": [
       "<Figure size 432x288 with 1 Axes>"
      ]
     },
     "metadata": {
      "needs_background": "light"
     },
     "output_type": "display_data"
    }
   ],
   "source": [
    "# グラフの描画\n",
    "markers = {'train': 'o', 'test': 's'}\n",
    "x = np.arange(len(train_acc_list))\n",
    "plt.suptitle(\"Accuracy of NN in SGD\")\n",
    "plt.plot(x, train_acc_list, label='train acc')\n",
    "plt.plot(x, test_acc_list, label='test acc', linestyle='--')\n",
    "plt.xlabel(\"epoch\")\n",
    "plt.ylabel(\"accuracy\")\n",
    "plt.ylim(0, 1.0)\n",
    "plt.legend(loc='lower right')\n",
    "plt.savefig(\"neuralnet_4layer_sgd.png\")\n",
    "plt.show()"
   ]
  },
  {
   "cell_type": "code",
   "execution_count": 40,
   "metadata": {},
   "outputs": [
    {
     "data": {
      "image/png": "[encoded data removed]",
      "text/plain": [
       "<Figure size 432x288 with 1 Axes>"
      ]
     },
     "metadata": {
      "needs_background": "light"
     },
     "output_type": "display_data"
    }
   ],
   "source": [
    "x = np.array(range(10000))\n",
    "plt.suptitle(\"Loss of NN in SGD\")\n",
    "plt.plot(x, train_loss_list, label='train loss')\n",
    "plt.xlabel(\"iteration\")\n",
    "plt.ylabel(\"loss\")\n",
    "#plt.xlim(0,2000)\n",
    "plt.legend(loc='lower right')\n",
    "plt.savefig(\"loss_of_4layer_sgd\")\n",
    "plt.show()"
   ]
  },
  {
   "cell_type": "code",
   "execution_count": 35,
   "metadata": {},
   "outputs": [
    {
     "name": "stdout",
     "output_type": "stream",
     "text": [
      "epoch: 0.0\n",
      "0.10841666666666666 0.1043\n",
      "epoch: 1.0\n",
      "0.9328666666666666 0.9331\n",
      "epoch: 2.0\n",
      "0.9447333333333333 0.9405\n",
      "epoch: 3.0\n",
      "0.9598 0.9579\n",
      "epoch: 4.0\n",
      "0.9644 0.9553\n",
      "epoch: 5.0\n",
      "0.97045 0.9623\n",
      "epoch: 6.0\n",
      "0.9744833333333334 0.9667\n",
      "epoch: 7.0\n",
      "0.9759 0.966\n",
      "epoch: 8.0\n",
      "0.9791166666666666 0.9707\n",
      "epoch: 9.0\n",
      "0.97865 0.9677\n",
      "epoch: 10.0\n",
      "0.9821166666666666 0.9709\n",
      "epoch: 11.0\n",
      "0.9827666666666667 0.9689\n",
      "epoch: 12.0\n",
      "0.9861666666666666 0.9709\n",
      "epoch: 13.0\n",
      "0.9859833333333333 0.9702\n",
      "epoch: 14.0\n",
      "0.9877666666666667 0.9717\n",
      "epoch: 15.0\n",
      "0.9873833333333333 0.9711\n",
      "epoch: 16.0\n",
      "0.98755 0.9703\n",
      "0.98755 0.9703\n"
     ]
    }
   ],
   "source": [
    "(x_train, t_train), (x_test, t_test) = load_mnist(normalize=True, one_hot_label=True)\n",
    "\n",
    "net_4 = NeuralNet_4layer_improve(input_size=784, hidden_size_1=50, hidden_size_2=50,output_size=10,activate_func=\"relu\")\n",
    "\n",
    "optimizer = Momentum()\n",
    "iters_num = 10000 \n",
    "train_size = x_train.shape[0]\n",
    "batch_size = 100\n",
    "learning_rate = 0.1\n",
    "\n",
    "train_loss_list = []\n",
    "train_acc_list = []\n",
    "test_acc_list = []\n",
    "\n",
    "iter_per_epoch = max(train_size / batch_size, 1)\n",
    "\n",
    "for i in range(iters_num):\n",
    "    batch_mask = np.random.choice(train_size, batch_size)\n",
    "    x_batch = x_train[batch_mask]\n",
    "    t_batch = t_train[batch_mask]\n",
    "    \n",
    "    grad = net_4.gradient(x_batch, t_batch)\n",
    "    optimizer.update(net_4.params, grad)\n",
    "    \n",
    "    loss = net_4.loss(x_batch, t_batch)\n",
    "    train_loss_list.append(loss)\n",
    "    \n",
    "    if i % iter_per_epoch == 0:\n",
    "        print(\"epoch: {}\".format(i//iter_per_epoch))\n",
    "        train_acc = net_4.accuracy(x_train, t_train)\n",
    "        test_acc = net_4.accuracy(x_test, t_test)\n",
    "        train_acc_list.append(train_acc)\n",
    "        test_acc_list.append(test_acc)\n",
    "        print(train_acc, test_acc)\n",
    "print(train_acc_list[-1], test_acc_list[-1])"
   ]
  },
  {
   "cell_type": "code",
   "execution_count": 36,
   "metadata": {},
   "outputs": [
    {
     "data": {
      "image/png": "[encoded data removed]",
      "text/plain": [
       "<Figure size 432x288 with 1 Axes>"
      ]
     },
     "metadata": {
      "needs_background": "light"
     },
     "output_type": "display_data"
    }
   ],
   "source": [
    "# グラフの描画\n",
    "markers = {'train': 'o', 'test': 's'}\n",
    "x = np.arange(len(train_acc_list))\n",
    "plt.suptitle(\"Accuracy of NN in momentum\")\n",
    "plt.plot(x, train_acc_list, label='train acc')\n",
    "plt.plot(x, test_acc_list, label='test acc', linestyle='--')\n",
    "plt.xlabel(\"epoch\")\n",
    "plt.ylabel(\"accuracy\")\n",
    "plt.ylim(0, 1.0)\n",
    "plt.legend(loc='lower right')\n",
    "plt.savefig(\"neuralnet_4layer_momentum.png\")\n",
    "plt.show()"
   ]
  },
  {
   "cell_type": "code",
   "execution_count": 37,
   "metadata": {},
   "outputs": [
    {
     "data": {
      "image/png": "[encoded data removed]",
      "text/plain": [
       "<Figure size 432x288 with 1 Axes>"
      ]
     },
     "metadata": {
      "needs_background": "light"
     },
     "output_type": "display_data"
    }
   ],
   "source": [
    "x = np.array(range(10000))\n",
    "plt.suptitle(\"Loss of NN in momentum\")\n",
    "plt.plot(x, train_loss_list, label='train loss')\n",
    "plt.xlabel(\"iteration\")\n",
    "plt.ylabel(\"loss\")\n",
    "#plt.xlim(0,2000)\n",
    "plt.legend(loc='lower right')\n",
    "plt.savefig(\"loss_of_4layer_momentum\")\n",
    "plt.show()"
   ]
  },
  {
   "cell_type": "markdown",
   "metadata": {},
   "source": [
    "損失が減少していることから学習が進んでいると考えられる。  \n",
    "訓練データでの正解率がほとんど1.0に近くなっているので過学習気味であることが推測される。\n",
    "\n",
    "続いてAdagradを用いた場合について見てみる"
   ]
  },
  {
   "cell_type": "code",
   "execution_count": 29,
   "metadata": {},
   "outputs": [
    {
     "name": "stdout",
     "output_type": "stream",
     "text": [
      "epoch: 0.0\n",
      "0.16135 0.1653\n",
      "epoch: 1.0\n",
      "0.9454666666666667 0.9422\n",
      "epoch: 2.0\n",
      "0.9554333333333334 0.9512\n",
      "epoch: 3.0\n",
      "0.9599833333333333 0.9522\n",
      "epoch: 4.0\n",
      "0.9653166666666667 0.9596\n",
      "epoch: 5.0\n",
      "0.9678666666666667 0.9612\n",
      "epoch: 6.0\n",
      "0.96925 0.9617\n",
      "epoch: 7.0\n",
      "0.9713 0.9624\n",
      "epoch: 8.0\n",
      "0.9721333333333333 0.9639\n",
      "epoch: 9.0\n",
      "0.9737833333333333 0.965\n",
      "epoch: 10.0\n",
      "0.97425 0.9645\n",
      "epoch: 11.0\n",
      "0.9743166666666667 0.9651\n",
      "epoch: 12.0\n",
      "0.9761166666666666 0.9677\n",
      "epoch: 13.0\n",
      "0.9773 0.9667\n",
      "epoch: 14.0\n",
      "0.97825 0.9675\n",
      "epoch: 15.0\n",
      "0.97865 0.968\n",
      "epoch: 16.0\n",
      "0.9796 0.9696\n",
      "0.9796 0.9696\n"
     ]
    }
   ],
   "source": [
    "(x_train, t_train), (x_test, t_test) = load_mnist(normalize=True, one_hot_label=True)\n",
    "\n",
    "net_4_adagrad = NeuralNet_4layer_improve(input_size=784, hidden_size_1=50, hidden_size_2=50,output_size=10,activate_func=\"relu\")\n",
    "\n",
    "optimizer = AdaGrad()\n",
    "iters_num = 10000 \n",
    "train_size = x_train.shape[0]\n",
    "batch_size = 100\n",
    "learning_rate = 0.1\n",
    "\n",
    "train_loss_list = []\n",
    "train_acc_list = []\n",
    "test_acc_list = []\n",
    "\n",
    "iter_per_epoch = max(train_size / batch_size, 1)\n",
    "\n",
    "for i in range(iters_num):\n",
    "    batch_mask = np.random.choice(train_size, batch_size)\n",
    "    x_batch = x_train[batch_mask]\n",
    "    t_batch = t_train[batch_mask]\n",
    "    \n",
    "    grad = net_4_adagrad.gradient(x_batch, t_batch)\n",
    "    optimizer.update(net_4_adagrad.params, grad)\n",
    "    \n",
    "    loss = net_4_adagrad.loss(x_batch, t_batch)\n",
    "    train_loss_list.append(loss)\n",
    "    \n",
    "    if i % iter_per_epoch == 0:\n",
    "        print(\"epoch: {}\".format(i//iter_per_epoch))\n",
    "        train_acc = net_4_adagrad.accuracy(x_train, t_train)\n",
    "        test_acc = net_4_adagrad.accuracy(x_test, t_test)\n",
    "        train_acc_list.append(train_acc)\n",
    "        test_acc_list.append(test_acc)\n",
    "        print(train_acc, test_acc)\n",
    "print(train_acc_list[-1], test_acc_list[-1])"
   ]
  },
  {
   "cell_type": "code",
   "execution_count": 33,
   "metadata": {},
   "outputs": [
    {
     "data": {
      "image/png": "[encoded data removed]",
      "text/plain": [
       "<Figure size 432x288 with 1 Axes>"
      ]
     },
     "metadata": {
      "needs_background": "light"
     },
     "output_type": "display_data"
    }
   ],
   "source": [
    "# グラフの描画\n",
    "markers = {'train': 'o', 'test': 's'}\n",
    "x = np.arange(len(train_acc_list))\n",
    "plt.suptitle(\"Accuracy of NN in AdaGrad\")\n",
    "plt.plot(x, train_acc_list, label='train acc')\n",
    "plt.plot(x, test_acc_list, label='test acc', linestyle='--')\n",
    "plt.xlabel(\"epoch\")\n",
    "plt.ylabel(\"accuracy\")\n",
    "plt.ylim(0, 1.0)\n",
    "plt.legend(loc='lower right')\n",
    "plt.savefig(\"neuralnet_4layer_adagrad.png\")\n",
    "plt.show()"
   ]
  },
  {
   "cell_type": "code",
   "execution_count": 34,
   "metadata": {},
   "outputs": [
    {
     "data": {
      "image/png": "[encoded data removed]",
      "text/plain": [
       "<Figure size 432x288 with 1 Axes>"
      ]
     },
     "metadata": {
      "needs_background": "light"
     },
     "output_type": "display_data"
    }
   ],
   "source": [
    "x = np.array(range(10000))\n",
    "plt.suptitle(\"Loss of NN in AdaGrad\")\n",
    "plt.plot(x, train_loss_list, label='train loss')\n",
    "plt.xlabel(\"iteration\")\n",
    "plt.ylabel(\"loss\")\n",
    "#plt.xlim(0,2000)\n",
    "plt.legend(loc='lower right')\n",
    "plt.savefig(\"loss_of_4layer_adagrad\")\n",
    "plt.show()"
   ]
  },
  {
   "cell_type": "markdown",
   "metadata": {},
   "source": [
    "## 過適合\n",
    "ここで一度、故意に過適合を発生させてみる\n",
    "訓練データの数を1000個に減らし、訓練データに対してより適合するように学習させてみる"
   ]
  },
  {
   "cell_type": "code",
   "execution_count": 84,
   "metadata": {},
   "outputs": [
    {
     "name": "stdout",
     "output_type": "stream",
     "text": [
      "1.0 0.8807\n"
     ]
    }
   ],
   "source": [
    "(x_train, t_train), (x_test, t_test) = load_mnist(normalize=True, one_hot_label=True)\n",
    "\n",
    "x_train = x_train[:1000]\n",
    "t_train = t_train[:1000]\n",
    "\n",
    "net_4_overfit = NeuralNet_4layer_improve(input_size=784, hidden_size_1=50, hidden_size_2=50,output_size=10,activate_func=\"relu\")\n",
    "\n",
    "optimizer = AdaGrad()\n",
    "iters_num = 1000\n",
    "train_size = x_train.shape[0]\n",
    "batch_size = 100\n",
    "learning_rate = 0.1\n",
    "\n",
    "train_loss_list = []\n",
    "train_acc_list = []\n",
    "test_acc_list = []\n",
    "\n",
    "iter_per_epoch = max(train_size / batch_size, 1)\n",
    "\n",
    "for i in range(iters_num):\n",
    "    batch_mask = np.random.choice(train_size, batch_size)\n",
    "    x_batch = x_train[batch_mask]\n",
    "    t_batch = t_train[batch_mask]\n",
    "    \n",
    "    grad = net_4_overfit.gradient(x_batch, t_batch)\n",
    "    optimizer.update(net_4_overfit.params, grad)\n",
    "    \n",
    "    loss = net_4_overfit.loss(x_batch, t_batch)\n",
    "    train_loss_list.append(loss)\n",
    "    \n",
    "    if i % iter_per_epoch == 0:\n",
    "        #print(\"epoch: {}\".format(i//iter_per_epoch))\n",
    "        train_acc = net_4_overfit.accuracy(x_train, t_train)\n",
    "        test_acc = net_4_overfit.accuracy(x_test, t_test)\n",
    "        train_acc_list.append(train_acc)\n",
    "        test_acc_list.append(test_acc)\n",
    "        #print(train_acc, test_acc)\n",
    "print(train_acc_list[-1], test_acc_list[-1])"
   ]
  },
  {
   "cell_type": "code",
   "execution_count": 85,
   "metadata": {},
   "outputs": [
    {
     "data": {
      "image/png": "[encoded data removed]",
      "text/plain": [
       "<Figure size 432x288 with 1 Axes>"
      ]
     },
     "metadata": {
      "needs_background": "light"
     },
     "output_type": "display_data"
    }
   ],
   "source": [
    "# グラフの描画\n",
    "markers = {'train': 'o', 'test': 's'}\n",
    "x = np.arange(len(train_acc_list))\n",
    "plt.suptitle(\"Accuracy of NN in Overfitting\")\n",
    "plt.plot(x, train_acc_list, label='train acc')\n",
    "plt.plot(x, test_acc_list, label='test acc', linestyle='--')\n",
    "plt.xlabel(\"epoch\")\n",
    "plt.ylabel(\"accuracy\")\n",
    "plt.ylim(0, 1.0)\n",
    "plt.legend(loc='lower right')\n",
    "plt.savefig(\"neuralnet_4layer_overfit.png\")\n",
    "plt.show()"
   ]
  },
  {
   "cell_type": "code",
   "execution_count": 87,
   "metadata": {},
   "outputs": [
    {
     "data": {
      "image/png": "[encoded data removed]",
      "text/plain": [
       "<Figure size 432x288 with 1 Axes>"
      ]
     },
     "metadata": {
      "needs_background": "light"
     },
     "output_type": "display_data"
    }
   ],
   "source": [
    "x = np.array(range(1000))\n",
    "plt.suptitle(\"Loss of NN in Overfitting\")\n",
    "plt.plot(x, train_loss_list, label='train loss')\n",
    "plt.xlabel(\"iteration\")\n",
    "plt.ylabel(\"loss\")\n",
    "#plt.xlim(0,2000)\n",
    "plt.legend(loc='lower right')\n",
    "plt.savefig(\"loss_of_4layer_overfit.png\")\n",
    "plt.show()"
   ]
  },
  {
   "cell_type": "markdown",
   "metadata": {},
   "source": [
    "上の２つのグラフのように、訓練データに対する正解率が1.0となっており、過学習が発生していることがわかる  \n",
    "これを改善するためにDropoutを実装してみる"
   ]
  },
  {
   "cell_type": "markdown",
   "metadata": {},
   "source": [
    "## 過適合対策としてDropoutを実装してみる"
   ]
  },
  {
   "cell_type": "code",
   "execution_count": 70,
   "metadata": {},
   "outputs": [],
   "source": [
    "class NeuralNet_4layer_dropout:\n",
    "\n",
    "    def __init__(self, input_size, hidden_size_1, hidden_size_2 , output_size, weight_init_value = 0.01,\n",
    "                activate_func=\"relu\", weight_decay_rate=5e-4):\n",
    "        self.input_size = input_size\n",
    "        self.output_size = output_size\n",
    "        self.hidden_size_1 = hidden_size_1\n",
    "        self.hidden_size_2 = hidden_size_2\n",
    "        \n",
    "        self.activate_func = activate_func\n",
    "        self.weight_decay_rate = weight_decay_rate\n",
    "        \n",
    "        # 重みの初期化\n",
    "        # ガウス分布を用いた乱数設定(通常バージョン)\n",
    "        if activate_func == \"normal\":\n",
    "            self.params = {}\n",
    "            self.params['W1'] = weight_init_value * np.random.randn(input_size, hidden_size_1)\n",
    "            self.params['b1'] = np.zeros(hidden_size_1)\n",
    "            self.params['W2'] = weight_init_value * np.random.randn(hidden_size_1, hidden_size_2) \n",
    "            self.params['b2'] = np.zeros(hidden_size_2)\n",
    "            self.params['W3'] = weight_init_value * np.random.randn(hidden_size_2, output_size) \n",
    "            self.params['b3'] = np.zeros(output_size)\n",
    "        \n",
    "            self.layers = OrderedDict()\n",
    "            self.layers['Linear1'] = Linear_Layer(self.params['W1'], self.params['b1'])\n",
    "            self.layers['ReLU1'] = ReLU_Layer()\n",
    "            self.layers['Dropout1'] = Dropout_Layer()\n",
    "            self.layers['Linear2'] = Linear_Layer(self.params['W2'], self.params['b2'])\n",
    "            self.layers['ReLU2'] = ReLU_Layer()\n",
    "            self.layers['Dropout2'] = Dropout_Layer()\n",
    "            self.layers['Linear3'] = Linear_Layer(self.params['W3'], self.params['b3'])\n",
    "            \n",
    "        # ReLUを用いたときの重み初期値\n",
    "        elif activate_func == \"relu\":\n",
    "            scale_in = np.sqrt(2.0 / input_size)\n",
    "            scale_hidden_1 = np.sqrt(2.0 / hidden_size_1)\n",
    "            scale_hidden_2 = np.sqrt(2.0 / hidden_size_2)\n",
    "            #scale_out = np.sqrt(2.0 / output_size)\n",
    "            \n",
    "            self.params = {}\n",
    "            self.params['W1'] = scale_in * np.random.randn(input_size, hidden_size_1)\n",
    "            self.params['b1'] = np.zeros(hidden_size_1)\n",
    "            self.params['W2'] = scale_hidden_1 * np.random.randn(hidden_size_1, hidden_size_2) \n",
    "            self.params['b2'] = np.zeros(hidden_size_2)\n",
    "            self.params['W3'] = scale_hidden_2 * np.random.randn(hidden_size_2, output_size) \n",
    "            self.params['b3'] = np.zeros(output_size)\n",
    "            \n",
    "            self.layers = OrderedDict()\n",
    "            self.layers['Linear1'] = Linear_Layer(self.params['W1'], self.params['b1'])\n",
    "            self.layers['ReLU1'] = ReLU_Layer()\n",
    "            self.layers['Dropout1'] = Dropout_Layer()\n",
    "            self.layers['Linear2'] = Linear_Layer(self.params['W2'], self.params['b2'])\n",
    "            self.layers['ReLU2'] = ReLU_Layer()\n",
    "            self.layers['Dropout2'] = Dropout_Layer()\n",
    "            self.layers['Linear3'] = Linear_Layer(self.params['W3'], self.params['b3'])\n",
    "            \n",
    "        # Sigmoidを用いたときの重み初期値\n",
    "        elif activate_func == \"sigmoid\":\n",
    "            scale_in = np.sqrt(1.0 / input_size)\n",
    "            scale_hidden_1 = np.sqrt(1.0 / hidden_size_1)\n",
    "            scale_hidden_2 = np.sqrt(1.0 / hidden_size_2)\n",
    "            #scale_out = np.sqrt(2.0 / output_size)\n",
    "            \n",
    "            self.params = {}\n",
    "            self.params['W1'] = scale_in * np.random.randn(input_size, hidden_size_1)\n",
    "            self.params['b1'] = np.zeros(hidden_size_1)\n",
    "            self.params['W2'] = scale_hidden_1 * np.random.randn(hidden_size_1, hidden_size_2) \n",
    "            self.params['b2'] = np.zeros(hidden_size_2)\n",
    "            self.params['W3'] = scale_hidden_2 * np.random.randn(hidden_size_2, output_size) \n",
    "            self.params['b3'] = np.zeros(output_size)\n",
    "            \n",
    "            self.layers = OrderedDict()\n",
    "            self.layers['Linear1'] = Linear_Layer(self.params['W1'], self.params['b1'])\n",
    "            self.layers['Sigmoid1'] = Sigmoid_Layer()\n",
    "            self.layers['Dropout1'] = Dropout_Layer()\n",
    "            self.layers['Linear2'] = Linear_Layer(self.params['W2'], self.params['b2'])\n",
    "            self.layers['Sigmoid2'] = Sigmoid_Layer()\n",
    "            self.layers['Dropout2'] = Dropout_Layer()\n",
    "            self.layers['Linear3'] = Linear_Layer(self.params['W3'], self.params['b3'])\n",
    "            \n",
    "        self.OutputLayer = Softmax_Loss_Layer(2)\n",
    "        \n",
    "    def predict(self, x, flag=True):\n",
    "        for k, layer in self.layers.items():\n",
    "            if 'Dropout' in k:\n",
    "                x = layer.forward(x, flag)\n",
    "            else:\n",
    "                x = layer.forward(x)        \n",
    "        return x\n",
    "        \n",
    "    # x:入力データ, t:教師データ\n",
    "    def loss(self, x, t):\n",
    "        y = self.predict(x)\n",
    "        \n",
    "        weight_decay = 0\n",
    "        \n",
    "        for idx in range(1, 4):\n",
    "            W = self.params['W' + str(idx)]\n",
    "            weight_decay += 0.5 * self.weight_decay_rate * np.sum(W ** 2)\n",
    "        \n",
    "        return self.OutputLayer.forward(y, t) + weight_decay\n",
    "    \n",
    "    def accuracy(self, x, t):\n",
    "        y = self.predict(x)\n",
    "        y = np.argmax(y, axis=1)\n",
    "        if t.ndim != 1 : \n",
    "            t = np.argmax(t, axis=1)        \n",
    "        accuracy = np.sum(y == t) / float(x.shape[0])\n",
    "        return accuracy\n",
    "        \n",
    "    # 逆伝播による勾配の実装\n",
    "    def gradient(self, x, t):\n",
    "        # forward\n",
    "        self.loss(x, t)\n",
    "\n",
    "        # backward\n",
    "        dout = 1\n",
    "        dout = self.OutputLayer.backward(dout)\n",
    "        \n",
    "        layers = list(self.layers.values())\n",
    "        layers.reverse()\n",
    "        for layer in layers:\n",
    "            dout = layer.backward(dout)\n",
    "\n",
    "        # 設定\n",
    "        grads = {}\n",
    "        grads['W1'], grads['b1'] = self.layers['Linear1'].W_grad, self.layers['Linear1'].b_grad\n",
    "        grads['W2'], grads['b2'] = self.layers['Linear2'].W_grad, self.layers['Linear2'].b_grad\n",
    "        grads['W3'], grads['b3'] = self.layers['Linear3'].W_grad, self.layers['Linear3'].b_grad\n",
    "\n",
    "        return grads"
   ]
  },
  {
   "cell_type": "code",
   "execution_count": 90,
   "metadata": {},
   "outputs": [
    {
     "name": "stdout",
     "output_type": "stream",
     "text": [
      "0.844 0.7559\n"
     ]
    }
   ],
   "source": [
    "(x_train, t_train), (x_test, t_test) = load_mnist(normalize=True, one_hot_label=True)\n",
    "\n",
    "x_train = x_train[:1000]\n",
    "t_train = t_train[:1000]\n",
    "\n",
    "net_4_dropout = NeuralNet_4layer_dropout(input_size=784, hidden_size_1=50, hidden_size_2=50,output_size=10,activate_func=\"relu\")\n",
    "\n",
    "optimizer = AdaGrad()\n",
    "iters_num = 1000\n",
    "train_size = x_train.shape[0]\n",
    "batch_size = 100\n",
    "learning_rate = 0.1\n",
    "\n",
    "train_loss_list = []\n",
    "train_acc_list = []\n",
    "test_acc_list = []\n",
    "\n",
    "iter_per_epoch = max(train_size / batch_size, 1)\n",
    "\n",
    "for i in range(iters_num):\n",
    "    batch_mask = np.random.choice(train_size, batch_size)\n",
    "    x_batch = x_train[batch_mask]\n",
    "    t_batch = t_train[batch_mask]\n",
    "    \n",
    "    grad = net_4_dropout.gradient(x_batch, t_batch)\n",
    "    optimizer.update(net_4_dropout.params, grad)\n",
    "    \n",
    "    loss = net_4_dropout.loss(x_batch, t_batch)\n",
    "    train_loss_list.append(loss)\n",
    "    \n",
    "    if i % iter_per_epoch == 0:\n",
    "        #print(\"epoch: {}\".format(i//iter_per_epoch))\n",
    "        train_acc = net_4_dropout.accuracy(x_train, t_train)\n",
    "        test_acc = net_4_dropout.accuracy(x_test, t_test)\n",
    "        train_acc_list.append(train_acc)\n",
    "        test_acc_list.append(test_acc)\n",
    "        #print(train_acc, test_acc)\n",
    "print(train_acc_list[-1], test_acc_list[-1])"
   ]
  },
  {
   "cell_type": "code",
   "execution_count": 91,
   "metadata": {},
   "outputs": [
    {
     "data": {
      "image/png": "[encoded data removed]",
      "text/plain": [
       "<Figure size 432x288 with 1 Axes>"
      ]
     },
     "metadata": {
      "needs_background": "light"
     },
     "output_type": "display_data"
    }
   ],
   "source": [
    "# グラフの描画\n",
    "markers = {'train': 'o', 'test': 's'}\n",
    "x = np.arange(len(train_acc_list))\n",
    "plt.suptitle(\"Accuracy of NN in Dropout\")\n",
    "plt.plot(x, train_acc_list, label='train acc')\n",
    "plt.plot(x, test_acc_list, label='test acc', linestyle='--')\n",
    "plt.xlabel(\"epoch\")\n",
    "plt.ylabel(\"accuracy\")\n",
    "plt.ylim(0, 1.0)\n",
    "plt.legend(loc='lower right')\n",
    "plt.savefig(\"neuralnet_4layer_dropout.png\")\n",
    "plt.show()"
   ]
  },
  {
   "cell_type": "code",
   "execution_count": 92,
   "metadata": {},
   "outputs": [
    {
     "data": {
      "image/png": "[encoded data removed]",
      "text/plain": [
       "<Figure size 432x288 with 1 Axes>"
      ]
     },
     "metadata": {
      "needs_background": "light"
     },
     "output_type": "display_data"
    }
   ],
   "source": [
    "x = np.array(range(1000))\n",
    "plt.suptitle(\"Loss of NN in Dropout\")\n",
    "plt.plot(x, train_loss_list, label='train loss')\n",
    "plt.xlabel(\"iteration\")\n",
    "plt.ylabel(\"loss\")\n",
    "#plt.xlim(0,2000)\n",
    "plt.legend(loc='lower right')\n",
    "plt.savefig(\"loss_of_4layer_dropout\")\n",
    "plt.show()"
   ]
  },
  {
   "cell_type": "markdown",
   "metadata": {},
   "source": [
    "Dropoutによって訓練データに対する正解率が1.0でなくなり、訓練データの正解率とテストデータの正解率の差もわずかに小さくなっていることから  \n",
    "汎化性能が上がっていることが推測される。"
   ]
  },
  {
   "cell_type": "code",
   "execution_count": null,
   "metadata": {},
   "outputs": [],
   "source": []
  }
 ],
 "metadata": {
  "kernelspec": {
   "display_name": "Python 3",
   "language": "python",
   "name": "python3"
  },
  "language_info": {
   "codemirror_mode": {
    "name": "ipython",
    "version": 3
   },
   "file_extension": ".py",
   "mimetype": "text/x-python",
   "name": "python",
   "nbconvert_exporter": "python",
   "pygments_lexer": "ipython3",
   "version": "3.8.3"
  }
 },
 "nbformat": 4,
 "nbformat_minor": 4
}
