{
 "cells": [
  {
   "cell_type": "markdown",
   "metadata": {},
   "source": [
    "# 線形判別分析(LDA)を用いてwineデータを分類する"
   ]
  },
  {
   "cell_type": "markdown",
   "metadata": {},
   "source": [
    "使用したデータセットはwineデータセットであり、3種類のワインと13種類の説明変数からなる\\\n",
    "ここではクラスの分離を2次元平面上に行うことで次元削減を行うことを考える"
   ]
  },
  {
   "cell_type": "code",
   "execution_count": 45,
   "metadata": {},
   "outputs": [],
   "source": [
    "import pandas as pd\n",
    "import numpy as np\n",
    "from sklearn.model_selection import train_test_split\n",
    "from sklearn.preprocessing import StandardScaler\n",
    "%matplotlib inline\n",
    "import matplotlib.pyplot as plt"
   ]
  },
  {
   "cell_type": "code",
   "execution_count": 2,
   "metadata": {},
   "outputs": [
    {
     "name": "stdout",
     "output_type": "stream",
     "text": [
      "   Class label  Alcohol  Malic acid   Ash  Alcalinity of ash  Magnesium  \\\n",
      "0            1    14.23        1.71  2.43               15.6        127   \n",
      "1            1    13.20        1.78  2.14               11.2        100   \n",
      "2            1    13.16        2.36  2.67               18.6        101   \n",
      "3            1    14.37        1.95  2.50               16.8        113   \n",
      "4            1    13.24        2.59  2.87               21.0        118   \n",
      "\n",
      "   Total phenols  Flavanoids  Nonflavanoid phenols  Proanthocyanins  \\\n",
      "0           2.80        3.06                  0.28             2.29   \n",
      "1           2.65        2.76                  0.26             1.28   \n",
      "2           2.80        3.24                  0.30             2.81   \n",
      "3           3.85        3.49                  0.24             2.18   \n",
      "4           2.80        2.69                  0.39             1.82   \n",
      "\n",
      "   Color intensity   Hue  OD280/OD315 of diluted wines  Proline  \n",
      "0             5.64  1.04                          3.92     1065  \n",
      "1             4.38  1.05                          3.40     1050  \n",
      "2             5.68  1.03                          3.17     1185  \n",
      "3             7.80  0.86                          3.45     1480  \n",
      "4             4.32  1.04                          2.93      735  \n"
     ]
    }
   ],
   "source": [
    "# wineデータセットの読み込み\n",
    "df_wine = pd.read_csv('https://archive.ics.uci.edu/ml/'\n",
    "                      'machine-learning-databases/wine/wine.data', header=None)\n",
    "\n",
    "df_wine.columns = ['Class label', 'Alcohol', 'Malic acid', 'Ash', 'Alcalinity of ash', 'Magnesium', 'Total phenols',\n",
    "                   'Flavanoids', 'Nonflavanoid phenols', 'Proanthocyanins', 'Color intensity', 'Hue', 'OD280/OD315 of diluted wines', 'Proline']\n",
    "print(df_wine.head())"
   ]
  },
  {
   "cell_type": "code",
   "execution_count": 3,
   "metadata": {},
   "outputs": [
    {
     "name": "stdout",
     "output_type": "stream",
     "text": [
      "(124, 13)\n",
      "(124,)\n"
     ]
    }
   ],
   "source": [
    "# 訓練データとテストデータに分ける\n",
    "# ここではsckit-learnのライブラリで7:3に分けている\n",
    "x, y = df_wine.iloc[:, 1:].values, df_wine.iloc[:, 0].values\n",
    "x_train, x_test, y_train, y_test = train_test_split(x, y, test_size=0.3, stratify=y, random_state=0)  \n",
    "print(x_train.shape)\n",
    "print(y_train.shape)"
   ]
  },
  {
   "cell_type": "markdown",
   "metadata": {},
   "source": [
    "### データを標準化する\n",
    "$$\n",
    "z_i=\\frac{x_i-\\mu}{\\sigma}\n",
    "$$\n",
    "ここで$\\mu$は平均、$\\sigma$は分散を表す"
   ]
  },
  {
   "cell_type": "code",
   "execution_count": 47,
   "metadata": {},
   "outputs": [],
   "source": [
    "import math\n",
    "# データの標準化を行う関数\n",
    "def standardize(x):\n",
    "    return (x-x.mean()) / x.std()"
   ]
  },
  {
   "cell_type": "code",
   "execution_count": 48,
   "metadata": {},
   "outputs": [
    {
     "name": "stdout",
     "output_type": "stream",
     "text": [
      "[-0.2556 -0.3096 -0.3072 -0.239   0.1665 -0.3054 -0.3046 -0.3172 -0.3096\n",
      " -0.2928 -0.3136 -0.3045  4.924 ]\n",
      "[-0.2623 -0.3093 -0.3081 -0.2233  0.1094 -0.308  -0.3088 -0.3169 -0.3108\n",
      " -0.3042 -0.3139 -0.3054  2.0513]\n",
      "[-0.2582 -0.3032 -0.3074 -0.2218  0.1312 -0.3108 -0.3151 -0.3164 -0.3131\n",
      " -0.2849 -0.3154 -0.3109  2.5328]\n"
     ]
    }
   ],
   "source": [
    "# xデータの標準化\n",
    "x_train_std = standardize(x_train)\n",
    "x_test_std = standardize(x_test)\n",
    "\n",
    "#ライブラリを用いた場合\n",
    "#sc = StandardScaler()\n",
    "#x_train_std = sc.fit_transform(x_train)\n",
    "#x_test_std = sc.transform(x_test)\n",
    "\n",
    "# 平均ベクトルの計算\n",
    "np.set_printoptions(precision=4)\n",
    "mean_vecs = []\n",
    "for label in range(1, 4):\n",
    "    mean_vecs.append(np.mean(x_train_std[y_train == label], axis=0))\n",
    "    print(mean_vecs[label - 1])"
   ]
  },
  {
   "cell_type": "code",
   "execution_count": 49,
   "metadata": {},
   "outputs": [
    {
     "name": "stdout",
     "output_type": "stream",
     "text": [
      "(13, 13)\n",
      "[41 50 33]\n"
     ]
    }
   ],
   "source": [
    "# クラス内共分散行列の計算\n",
    "d = 13 \n",
    "S_w = np.zeros((d, d))\n",
    "for label, mv in zip(range(1, 4), mean_vecs):\n",
    "    class_scatter = np.zeros((d, d))  \n",
    "    for row in x_train_std[y_train == label]:\n",
    "        row, mv = row.reshape(d, 1), mv.reshape(d, 1)  \n",
    "        class_scatter += (row - mv).dot((row - mv).T)\n",
    "    S_w += class_scatter                          \n",
    "print((S_w.shape[0], S_w.shape[1]))\n",
    "print(np.bincount(y_train)[1:])"
   ]
  },
  {
   "cell_type": "code",
   "execution_count": 50,
   "metadata": {},
   "outputs": [
    {
     "name": "stdout",
     "output_type": "stream",
     "text": [
      "(13, 13)\n"
     ]
    }
   ],
   "source": [
    "# numpyを用いてクラス内共分散行列を計算する\n",
    "d = 13  \n",
    "S_w = np.zeros((d, d))\n",
    "for label, mv in zip(range(1, 4), mean_vecs):\n",
    "    class_scatter = np.cov(x_train_std[y_train == label].T)\n",
    "    S_w += class_scatter\n",
    "print((S_w.shape[0], S_w.shape[1]))"
   ]
  },
  {
   "cell_type": "markdown",
   "metadata": {},
   "source": [
    "上のS_wはどちらを用いても良い"
   ]
  },
  {
   "cell_type": "code",
   "execution_count": 51,
   "metadata": {},
   "outputs": [
    {
     "name": "stdout",
     "output_type": "stream",
     "text": [
      "(13, 13)\n"
     ]
    }
   ],
   "source": [
    "# クラス間共分散行列の計算\n",
    "mean_overall = np.mean(x_train_std, axis=0)\n",
    "d = 13  \n",
    "S_b = np.zeros((d, d))\n",
    "for i, mean_vec in enumerate(mean_vecs):\n",
    "    n = x_train[y_train == i+1, :].shape[0]\n",
    "    mean_vec = mean_vec.reshape(d, 1)  \n",
    "    mean_overall = mean_overall.reshape(d, 1)  \n",
    "    S_b += n * (mean_vec - mean_overall).dot((mean_vec - mean_overall).T)\n",
    "print((S_b.shape[0], S_b.shape[1]))"
   ]
  },
  {
   "cell_type": "code",
   "execution_count": 52,
   "metadata": {},
   "outputs": [
    {
     "name": "stdout",
     "output_type": "stream",
     "text": [
      "349.6178089059934\n",
      "172.76152218979652\n",
      "5.295472340187752e-14\n",
      "3.9395830014489546e-14\n",
      "2.842170943040401e-14\n",
      "1.8105510738964006e-14\n",
      "1.8105510738964006e-14\n",
      "1.7073511538608653e-14\n",
      "1.2890731655730721e-14\n",
      "8.341127193727803e-15\n",
      "8.341127193727803e-15\n",
      "5.4982471704457185e-15\n",
      "1.9905428774659485e-15\n"
     ]
    }
   ],
   "source": [
    "# 固有値を計算する\n",
    "eigen_vals, eigen_vecs = np.linalg.eig(np.linalg.inv(S_w).dot(S_b))\n",
    "eigen_pairs = [(np.abs(eigen_vals[i]), eigen_vecs[:, i]) for i in range(len(eigen_vals))]\n",
    "eigen_pairs = sorted(eigen_pairs, key=lambda k: k[0], reverse=True)\n",
    "for eigen_val in eigen_pairs:\n",
    "    print(eigen_val[0])"
   ]
  },
  {
   "cell_type": "code",
   "execution_count": 58,
   "metadata": {},
   "outputs": [
    {
     "name": "stdout",
     "output_type": "stream",
     "text": [
      "Contribution Ratio:\n",
      " [0.6692795600710381, 0.330720439928962, 1.0137216434424181e-16, 5.4408181446965127e-17, 2.4676955783625594e-17, 1.4733898575259882e-17, 1.4733898575259882e-17, 1.1743872833547115e-17, 1.1743872833547115e-17, -3.810531464348726e-18, -1.0525391881244804e-17, -3.2684125351578744e-17, -7.541613473076989e-17]\n",
      "\n",
      "Cumulative Contribution Ratio:\n",
      " [0.6693 1.     1.     1.     1.     1.     1.     1.     1.     1.\n",
      " 1.     1.     1.    ]\n"
     ]
    }
   ],
   "source": [
    "# 固有値の寄与率と累積寄与率\n",
    "tot = sum(eigen_vals.real)\n",
    "discr = [(i / tot) for i in sorted(eigen_vals.real, reverse=True)]\n",
    "cum_discr = np.cumsum(discr)\n",
    "print('Contribution Ratio:\\n', discr)\n",
    "print()\n",
    "print('Cumulative Contribution Ratio:\\n', cum_discr)"
   ]
  },
  {
   "cell_type": "code",
   "execution_count": 42,
   "metadata": {},
   "outputs": [
    {
     "name": "stdout",
     "output_type": "stream",
     "text": [
      "[[-0.1552 -0.2584]\n",
      " [ 0.067  -0.0701]\n",
      " [-0.054  -0.6861]\n",
      " [ 0.0385  0.0504]\n",
      " [-0.001  -0.003 ]\n",
      " [ 0.2686  0.0712]\n",
      " [-0.6213  0.144 ]\n",
      " [-0.5344 -0.0436]\n",
      " [ 0.0027  0.0799]\n",
      " [ 0.1075 -0.0474]\n",
      " [-0.1283  0.647 ]\n",
      " [-0.4418 -0.0093]\n",
      " [-0.001  -0.001 ]]\n"
     ]
    }
   ],
   "source": [
    "# 射影行列を設定\n",
    "w = np.hstack((eigen_pairs[0][1][:, np.newaxis].real,\n",
    "              eigen_pairs[1][1][:, np.newaxis].real))\n",
    "print(w)"
   ]
  },
  {
   "cell_type": "code",
   "execution_count": 61,
   "metadata": {},
   "outputs": [
    {
     "data": {
      "image/png": "[encoded data removed]",
      "text/plain": [
       "<Figure size 432x288 with 1 Axes>"
      ]
     },
     "metadata": {
      "needs_background": "light"
     },
     "output_type": "display_data"
    }
   ],
   "source": [
    "# 訓練データを射影行列wで変換\n",
    "x_train_lda = x_train_std.dot(w)\n",
    "colors = ['r', 'b', 'g']\n",
    "markers = ['s', 'x', 'o']\n",
    "for l, c, m in zip(np.unique(y_train), colors, markers):\n",
    "    plt.scatter(x_train_lda[y_train == l, 0],\n",
    "                x_train_lda[y_train == l, 1] * (-1), c=c, label=l, marker=m)\n",
    "plt.title('wine LDA')\n",
    "plt.xlabel('z1')\n",
    "plt.ylabel('z2')\n",
    "plt.legend(loc='lower right')\n",
    "plt.savefig('wine_LDA.png')\n",
    "plt.show()"
   ]
  },
  {
   "cell_type": "code",
   "execution_count": 62,
   "metadata": {},
   "outputs": [
    {
     "data": {
      "image/png": "[encoded data removed]",
      "text/plain": [
       "<Figure size 432x288 with 1 Axes>"
      ]
     },
     "metadata": {
      "needs_background": "light"
     },
     "output_type": "display_data"
    }
   ],
   "source": [
    "x_test_lda = x_test_std.dot(w)\n",
    "colors = ['r', 'b', 'g']\n",
    "markers = ['s', 'x', 'o']\n",
    "for l, c, m in zip(np.unique(y_test), colors, markers):\n",
    "    plt.scatter(x_test_lda[y_test == l, 0],\n",
    "                x_test_lda[y_test == l, 1] * (-1), c=c, label=l, marker=m)\n",
    "plt.title('wine test LDA')\n",
    "plt.xlabel('z1')\n",
    "plt.ylabel('z2')\n",
    "plt.legend(loc='lower right')\n",
    "plt.savefig('wine_LDA_test.png')\n",
    "plt.show()"
   ]
  },
  {
   "cell_type": "markdown",
   "metadata": {},
   "source": [
    "テストデータでk近傍法などを用いて分類分けした結果と比べると正解率を計算することができる"
   ]
  },
  {
   "cell_type": "code",
   "execution_count": null,
   "metadata": {},
   "outputs": [],
   "source": []
  }
 ],
 "metadata": {
  "kernelspec": {
   "display_name": "Python 3",
   "language": "python",
   "name": "python3"
  },
  "language_info": {
   "codemirror_mode": {
    "name": "ipython",
    "version": 3
   },
   "file_extension": ".py",
   "mimetype": "text/x-python",
   "name": "python",
   "nbconvert_exporter": "python",
   "pygments_lexer": "ipython3",
   "version": "3.8.3"
  }
 },
 "nbformat": 4,
 "nbformat_minor": 4
}
